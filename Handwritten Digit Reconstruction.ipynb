{
 "cells": [
  {
   "cell_type": "markdown",
   "metadata": {},
   "source": [
    "# Handwritten Digit Reconstruction\n",
    "\n",
    "In the following notebook we will be reconstructing handwritten digits by training from the mnist dataset."
   ]
  },
  {
   "cell_type": "code",
   "execution_count": 19,
   "metadata": {},
   "outputs": [
    {
     "name": "stdout",
     "output_type": "stream",
     "text": [
      "('x_train shape: ', (60000, 28, 28))\n",
      "('y_train shape: ', (60000,))\n",
      "('x_test shape: ', (10000, 28, 28))\n",
      "('y_test shape: ', (10000,))\n"
     ]
    }
   ],
   "source": [
    "import pandas as pd\n",
    "import numpy as np\n",
    "from keras.datasets import mnist\n",
    "\n",
    "(x_train, y_train), (x_test, y_test) = mnist.load_data()\n",
    "\n",
    "\n",
    "print(\"x_train shape: \", x_train.shape);\n",
    "print(\"y_train shape: \", y_train.shape);\n",
    "print(\"x_test shape: \", x_test.shape);\n",
    "print(\"y_test shape: \", y_test.shape);\n"
   ]
  },
  {
   "cell_type": "code",
   "execution_count": 20,
   "metadata": {},
   "outputs": [
    {
     "name": "stdout",
     "output_type": "stream",
     "text": [
      "('x_train_scaled shape: ', (60000, 784))\n",
      "('x_test_scaled shape: ', (10000, 784))\n"
     ]
    }
   ],
   "source": [
    "x_train = x_train.astype('float32') / 255\n",
    "x_test = x_test.astype('float32') / 255\n",
    "\n",
    "x_train = x_train.reshape((len(x_train), np.prod(x_train.shape[1:])))\n",
    "x_test = x_test.reshape((len(x_test), np.prod(x_test.shape[1:])))\n",
    "\n",
    "print(\"x_train_scaled shape: \", x_train.shape);\n",
    "print(\"x_test_scaled shape: \", x_test.shape);"
   ]
  },
  {
   "cell_type": "markdown",
   "metadata": {},
   "source": [
    "## Training"
   ]
  },
  {
   "cell_type": "code",
   "execution_count": 21,
   "metadata": {},
   "outputs": [
    {
     "name": "stdout",
     "output_type": "stream",
     "text": [
      "_________________________________________________________________\n",
      "Layer (type)                 Output Shape              Param #   \n",
      "=================================================================\n",
      "input_2 (InputLayer)         (None, 784)               0         \n",
      "_________________________________________________________________\n",
      "dense_3 (Dense)              (None, 32)                25120     \n",
      "_________________________________________________________________\n",
      "dense_4 (Dense)              (None, 784)               25872     \n",
      "=================================================================\n",
      "Total params: 50,992\n",
      "Trainable params: 50,992\n",
      "Non-trainable params: 0\n",
      "_________________________________________________________________\n"
     ]
    }
   ],
   "source": [
    "from keras.models import Input\n",
    "from keras.layers import Dense\n",
    "from keras.models import Model\n",
    "\n",
    "InputModel = Input(shape = (784,))\n",
    "EncodedLayer = Dense(32, activation = 'relu')(InputModel)\n",
    "DecodedLayer = Dense(784, activation = 'sigmoid')(EncodedLayer)\n",
    "AutoencoderModel = Model(InputModel, DecodedLayer)\n",
    "\n",
    "AutoencoderModel.summary()"
   ]
  },
  {
   "cell_type": "code",
   "execution_count": 22,
   "metadata": {},
   "outputs": [],
   "source": [
    "AutoencoderModel.compile(optimizer='adadelta', loss='binary_crossentropy')"
   ]
  },
  {
   "cell_type": "code",
   "execution_count": 24,
   "metadata": {},
   "outputs": [
    {
     "name": "stdout",
     "output_type": "stream",
     "text": [
      "Train on 60000 samples, validate on 10000 samples\n",
      "Epoch 1/100\n",
      "60000/60000 [==============================] - 1s 21us/step - loss: 0.3656 - val_loss: 0.2712\n",
      "Epoch 2/100\n",
      "60000/60000 [==============================] - 1s 18us/step - loss: 0.2638 - val_loss: 0.2528\n",
      "Epoch 3/100\n",
      "60000/60000 [==============================] - 1s 18us/step - loss: 0.2430 - val_loss: 0.2309\n",
      "Epoch 4/100\n",
      "60000/60000 [==============================] - 1s 18us/step - loss: 0.2227 - val_loss: 0.2125\n",
      "Epoch 5/100\n",
      "60000/60000 [==============================] - 1s 18us/step - loss: 0.2072 - val_loss: 0.1996\n",
      "Epoch 6/100\n",
      "60000/60000 [==============================] - 1s 18us/step - loss: 0.1963 - val_loss: 0.1903\n",
      "Epoch 7/100\n",
      "60000/60000 [==============================] - 1s 18us/step - loss: 0.1879 - val_loss: 0.1828\n",
      "Epoch 8/100\n",
      "60000/60000 [==============================] - 1s 18us/step - loss: 0.1810 - val_loss: 0.1765\n",
      "Epoch 9/100\n",
      "60000/60000 [==============================] - 1s 18us/step - loss: 0.1750 - val_loss: 0.1711\n",
      "Epoch 10/100\n",
      "60000/60000 [==============================] - 1s 18us/step - loss: 0.1699 - val_loss: 0.1661\n",
      "Epoch 11/100\n",
      "60000/60000 [==============================] - 1s 18us/step - loss: 0.1653 - val_loss: 0.1617\n",
      "Epoch 12/100\n",
      "60000/60000 [==============================] - 1s 18us/step - loss: 0.1611 - val_loss: 0.1576\n",
      "Epoch 13/100\n",
      "60000/60000 [==============================] - 1s 18us/step - loss: 0.1571 - val_loss: 0.1538\n",
      "Epoch 14/100\n",
      "60000/60000 [==============================] - 1s 19us/step - loss: 0.1535 - val_loss: 0.1504\n",
      "Epoch 15/100\n",
      "60000/60000 [==============================] - 1s 19us/step - loss: 0.1502 - val_loss: 0.1472\n",
      "Epoch 16/100\n",
      "60000/60000 [==============================] - 1s 18us/step - loss: 0.1472 - val_loss: 0.1443\n",
      "Epoch 17/100\n",
      "60000/60000 [==============================] - 1s 19us/step - loss: 0.1444 - val_loss: 0.1417\n",
      "Epoch 18/100\n",
      "60000/60000 [==============================] - 1s 21us/step - loss: 0.1418 - val_loss: 0.1392\n",
      "Epoch 19/100\n",
      "60000/60000 [==============================] - 1s 23us/step - loss: 0.1394 - val_loss: 0.1368\n",
      "Epoch 20/100\n",
      "60000/60000 [==============================] - 1s 19us/step - loss: 0.1371 - val_loss: 0.1346\n",
      "Epoch 21/100\n",
      "60000/60000 [==============================] - 1s 19us/step - loss: 0.1349 - val_loss: 0.1324\n",
      "Epoch 22/100\n",
      "60000/60000 [==============================] - 1s 19us/step - loss: 0.1328 - val_loss: 0.1305\n",
      "Epoch 23/100\n",
      "60000/60000 [==============================] - 1s 19us/step - loss: 0.1308 - val_loss: 0.1284\n",
      "Epoch 24/100\n",
      "60000/60000 [==============================] - 1s 19us/step - loss: 0.1289 - val_loss: 0.1264\n",
      "Epoch 25/100\n",
      "60000/60000 [==============================] - 1s 19us/step - loss: 0.1270 - val_loss: 0.1246\n",
      "Epoch 26/100\n",
      "60000/60000 [==============================] - 1s 19us/step - loss: 0.1252 - val_loss: 0.1230\n",
      "Epoch 27/100\n",
      "60000/60000 [==============================] - 1s 19us/step - loss: 0.1235 - val_loss: 0.1212\n",
      "Epoch 28/100\n",
      "60000/60000 [==============================] - 1s 18us/step - loss: 0.1218 - val_loss: 0.1195\n",
      "Epoch 29/100\n",
      "60000/60000 [==============================] - 1s 19us/step - loss: 0.1203 - val_loss: 0.1180\n",
      "Epoch 30/100\n",
      "60000/60000 [==============================] - 1s 19us/step - loss: 0.1188 - val_loss: 0.1166\n",
      "Epoch 31/100\n",
      "60000/60000 [==============================] - 1s 19us/step - loss: 0.1174 - val_loss: 0.1152\n",
      "Epoch 32/100\n",
      "60000/60000 [==============================] - 1s 19us/step - loss: 0.1161 - val_loss: 0.1139\n",
      "Epoch 33/100\n",
      "60000/60000 [==============================] - 1s 19us/step - loss: 0.1149 - val_loss: 0.1127\n",
      "Epoch 34/100\n",
      "60000/60000 [==============================] - 1s 19us/step - loss: 0.1137 - val_loss: 0.1116\n",
      "Epoch 35/100\n",
      "60000/60000 [==============================] - 1s 19us/step - loss: 0.1126 - val_loss: 0.1105\n",
      "Epoch 36/100\n",
      "60000/60000 [==============================] - 1s 19us/step - loss: 0.1116 - val_loss: 0.1096\n",
      "Epoch 37/100\n",
      "60000/60000 [==============================] - 1s 19us/step - loss: 0.1107 - val_loss: 0.1086\n",
      "Epoch 38/100\n",
      "60000/60000 [==============================] - 1s 19us/step - loss: 0.1098 - val_loss: 0.1077\n",
      "Epoch 39/100\n",
      "60000/60000 [==============================] - 1s 19us/step - loss: 0.1090 - val_loss: 0.1069\n",
      "Epoch 40/100\n",
      "60000/60000 [==============================] - 1s 18us/step - loss: 0.1082 - val_loss: 0.1061\n",
      "Epoch 41/100\n",
      "60000/60000 [==============================] - 1s 19us/step - loss: 0.1075 - val_loss: 0.1055\n",
      "Epoch 42/100\n",
      "60000/60000 [==============================] - 1s 19us/step - loss: 0.1068 - val_loss: 0.1048\n",
      "Epoch 43/100\n",
      "60000/60000 [==============================] - 1s 19us/step - loss: 0.1061 - val_loss: 0.1041\n",
      "Epoch 44/100\n",
      "60000/60000 [==============================] - 1s 19us/step - loss: 0.1055 - val_loss: 0.1036\n",
      "Epoch 45/100\n",
      "60000/60000 [==============================] - 1s 19us/step - loss: 0.1050 - val_loss: 0.1030\n",
      "Epoch 46/100\n",
      "60000/60000 [==============================] - 1s 19us/step - loss: 0.1045 - val_loss: 0.1025\n",
      "Epoch 47/100\n",
      "60000/60000 [==============================] - 1s 19us/step - loss: 0.1040 - val_loss: 0.1021\n",
      "Epoch 48/100\n",
      "60000/60000 [==============================] - 1s 19us/step - loss: 0.1035 - val_loss: 0.1016\n",
      "Epoch 49/100\n",
      "60000/60000 [==============================] - 1s 19us/step - loss: 0.1031 - val_loss: 0.1012\n",
      "Epoch 50/100\n",
      "60000/60000 [==============================] - 1s 19us/step - loss: 0.1027 - val_loss: 0.1008\n",
      "Epoch 51/100\n",
      "60000/60000 [==============================] - 1s 19us/step - loss: 0.1023 - val_loss: 0.1005\n",
      "Epoch 52/100\n",
      "60000/60000 [==============================] - 1s 19us/step - loss: 0.1019 - val_loss: 0.1001\n",
      "Epoch 53/100\n",
      "60000/60000 [==============================] - 1s 19us/step - loss: 0.1016 - val_loss: 0.0998\n",
      "Epoch 54/100\n",
      "60000/60000 [==============================] - 1s 19us/step - loss: 0.1013 - val_loss: 0.0994\n",
      "Epoch 55/100\n",
      "60000/60000 [==============================] - 1s 19us/step - loss: 0.1010 - val_loss: 0.0992\n",
      "Epoch 56/100\n",
      "60000/60000 [==============================] - 1s 19us/step - loss: 0.1007 - val_loss: 0.0989\n",
      "Epoch 57/100\n",
      "60000/60000 [==============================] - 1s 19us/step - loss: 0.1004 - val_loss: 0.0986\n",
      "Epoch 58/100\n",
      "60000/60000 [==============================] - 1s 19us/step - loss: 0.1001 - val_loss: 0.0983\n",
      "Epoch 59/100\n",
      "60000/60000 [==============================] - 1s 19us/step - loss: 0.0999 - val_loss: 0.0981\n",
      "Epoch 60/100\n",
      "60000/60000 [==============================] - 1s 19us/step - loss: 0.0996 - val_loss: 0.0979\n",
      "Epoch 61/100\n",
      "60000/60000 [==============================] - 1s 19us/step - loss: 0.0994 - val_loss: 0.0977\n",
      "Epoch 62/100\n",
      "60000/60000 [==============================] - 1s 19us/step - loss: 0.0992 - val_loss: 0.0975\n",
      "Epoch 63/100\n",
      "60000/60000 [==============================] - 1s 19us/step - loss: 0.0990 - val_loss: 0.0973\n",
      "Epoch 64/100\n",
      "60000/60000 [==============================] - 1s 19us/step - loss: 0.0988 - val_loss: 0.0971\n",
      "Epoch 65/100\n",
      "60000/60000 [==============================] - 1s 19us/step - loss: 0.0986 - val_loss: 0.0969\n",
      "Epoch 66/100\n",
      "60000/60000 [==============================] - 1s 19us/step - loss: 0.0985 - val_loss: 0.0967\n",
      "Epoch 67/100\n",
      "60000/60000 [==============================] - 1s 19us/step - loss: 0.0983 - val_loss: 0.0966\n",
      "Epoch 68/100\n",
      "60000/60000 [==============================] - 1s 19us/step - loss: 0.0981 - val_loss: 0.0964\n",
      "Epoch 69/100\n",
      "60000/60000 [==============================] - 1s 19us/step - loss: 0.0980 - val_loss: 0.0963\n",
      "Epoch 70/100\n",
      "60000/60000 [==============================] - 1s 19us/step - loss: 0.0979 - val_loss: 0.0962\n",
      "Epoch 71/100\n",
      "60000/60000 [==============================] - 1s 20us/step - loss: 0.0977 - val_loss: 0.0961\n",
      "Epoch 72/100\n",
      "60000/60000 [==============================] - 1s 21us/step - loss: 0.0976 - val_loss: 0.0960\n",
      "Epoch 73/100\n",
      "60000/60000 [==============================] - 1s 22us/step - loss: 0.0975 - val_loss: 0.0958\n",
      "Epoch 74/100\n",
      "60000/60000 [==============================] - 1s 21us/step - loss: 0.0974 - val_loss: 0.0957\n",
      "Epoch 75/100\n",
      "60000/60000 [==============================] - 1s 21us/step - loss: 0.0973 - val_loss: 0.0956\n",
      "Epoch 76/100\n",
      "60000/60000 [==============================] - 1s 21us/step - loss: 0.0972 - val_loss: 0.0955\n",
      "Epoch 77/100\n"
     ]
    },
    {
     "name": "stdout",
     "output_type": "stream",
     "text": [
      "60000/60000 [==============================] - 1s 20us/step - loss: 0.0971 - val_loss: 0.0954\n",
      "Epoch 78/100\n",
      "60000/60000 [==============================] - 1s 21us/step - loss: 0.0970 - val_loss: 0.0954\n",
      "Epoch 79/100\n",
      "60000/60000 [==============================] - 1s 20us/step - loss: 0.0969 - val_loss: 0.0953\n",
      "Epoch 80/100\n",
      "60000/60000 [==============================] - 1s 20us/step - loss: 0.0968 - val_loss: 0.0952\n",
      "Epoch 81/100\n",
      "60000/60000 [==============================] - 1s 20us/step - loss: 0.0967 - val_loss: 0.0951\n",
      "Epoch 82/100\n",
      "60000/60000 [==============================] - 1s 19us/step - loss: 0.0967 - val_loss: 0.0951\n",
      "Epoch 83/100\n",
      "60000/60000 [==============================] - 1s 20us/step - loss: 0.0966 - val_loss: 0.0950\n",
      "Epoch 84/100\n",
      "60000/60000 [==============================] - 1s 20us/step - loss: 0.0965 - val_loss: 0.0949\n",
      "Epoch 85/100\n",
      "60000/60000 [==============================] - 1s 21us/step - loss: 0.0964 - val_loss: 0.0949\n",
      "Epoch 86/100\n",
      "60000/60000 [==============================] - 1s 21us/step - loss: 0.0964 - val_loss: 0.0948\n",
      "Epoch 87/100\n",
      "60000/60000 [==============================] - 1s 21us/step - loss: 0.0963 - val_loss: 0.0947\n",
      "Epoch 88/100\n",
      "60000/60000 [==============================] - 1s 20us/step - loss: 0.0963 - val_loss: 0.0947\n",
      "Epoch 89/100\n",
      "60000/60000 [==============================] - 1s 20us/step - loss: 0.0962 - val_loss: 0.0946\n",
      "Epoch 90/100\n",
      "60000/60000 [==============================] - 1s 20us/step - loss: 0.0961 - val_loss: 0.0946\n",
      "Epoch 91/100\n",
      "60000/60000 [==============================] - 1s 20us/step - loss: 0.0961 - val_loss: 0.0945\n",
      "Epoch 92/100\n",
      "60000/60000 [==============================] - 1s 20us/step - loss: 0.0960 - val_loss: 0.0945\n",
      "Epoch 93/100\n",
      "60000/60000 [==============================] - 1s 20us/step - loss: 0.0960 - val_loss: 0.0944\n",
      "Epoch 94/100\n",
      "60000/60000 [==============================] - 1s 20us/step - loss: 0.0959 - val_loss: 0.0944\n",
      "Epoch 95/100\n",
      "60000/60000 [==============================] - 1s 20us/step - loss: 0.0959 - val_loss: 0.0943\n",
      "Epoch 96/100\n",
      "60000/60000 [==============================] - 1s 20us/step - loss: 0.0958 - val_loss: 0.0943\n",
      "Epoch 97/100\n",
      "60000/60000 [==============================] - 1s 20us/step - loss: 0.0958 - val_loss: 0.0942\n",
      "Epoch 98/100\n",
      "60000/60000 [==============================] - 1s 20us/step - loss: 0.0957 - val_loss: 0.0942\n",
      "Epoch 99/100\n",
      "60000/60000 [==============================] - 1s 20us/step - loss: 0.0957 - val_loss: 0.0942\n",
      "Epoch 100/100\n",
      "60000/60000 [==============================] - 1s 20us/step - loss: 0.0957 - val_loss: 0.0941\n"
     ]
    }
   ],
   "source": [
    "history = AutoencoderModel.fit(\n",
    "    x_train, \n",
    "    x_train, \n",
    "    batch_size = 256, \n",
    "    epochs = 100, \n",
    "    shuffle = True, \n",
    "    validation_data = (x_test, x_test))"
   ]
  },
  {
   "cell_type": "code",
   "execution_count": 27,
   "metadata": {},
   "outputs": [
    {
     "data": {
      "image/png": "[encoded data removed]",
      "text/plain": [
       "<Figure size 432x288 with 1 Axes>"
      ]
     },
     "metadata": {
      "needs_background": "light"
     },
     "output_type": "display_data"
    }
   ],
   "source": [
    "import matplotlib.pyplot as plt\n",
    "\n",
    "plt.plot(history.history['loss'])\n",
    "plt.plot(history.history['val_loss'])\n",
    "plt.title(\"Autoencoder Model Loss\")\n",
    "plt.ylabel('loss')\n",
    "plt.xlabel('epoch')\n",
    "plt.legend([\"Train\", \"Test\"], loc='upper left')\n",
    "plt.show()"
   ]
  },
  {
   "cell_type": "code",
   "execution_count": 28,
   "metadata": {},
   "outputs": [
    {
     "ename": "NameError",
     "evalue": "name 'DecodedDigits' is not defined",
     "output_type": "error",
     "traceback": [
      "\u001b[0;31m---------------------------------------------------------------------------\u001b[0m",
      "\u001b[0;31mNameError\u001b[0m                                 Traceback (most recent call last)",
      "\u001b[0;32m<ipython-input-28-e205623b3b6e>\u001b[0m in \u001b[0;36m<module>\u001b[0;34m()\u001b[0m\n\u001b[1;32m      8\u001b[0m     \u001b[0max\u001b[0m\u001b[0;34m.\u001b[0m\u001b[0mget_yaxis\u001b[0m\u001b[0;34m(\u001b[0m\u001b[0;34m)\u001b[0m\u001b[0;34m.\u001b[0m\u001b[0mset_visible\u001b[0m\u001b[0;34m(\u001b[0m\u001b[0mFalse\u001b[0m\u001b[0;34m)\u001b[0m\u001b[0;34m\u001b[0m\u001b[0m\n\u001b[1;32m      9\u001b[0m     \u001b[0max\u001b[0m \u001b[0;34m=\u001b[0m \u001b[0mplt\u001b[0m\u001b[0;34m.\u001b[0m\u001b[0msubplot\u001b[0m\u001b[0;34m(\u001b[0m\u001b[0;36m2\u001b[0m\u001b[0;34m,\u001b[0m \u001b[0mn\u001b[0m\u001b[0;34m,\u001b[0m \u001b[0mi\u001b[0m \u001b[0;34m+\u001b[0m \u001b[0;36m1\u001b[0m \u001b[0;34m+\u001b[0m \u001b[0mn\u001b[0m\u001b[0;34m)\u001b[0m\u001b[0;34m\u001b[0m\u001b[0m\n\u001b[0;32m---> 10\u001b[0;31m     \u001b[0mplt\u001b[0m\u001b[0;34m.\u001b[0m\u001b[0mimshow\u001b[0m\u001b[0;34m(\u001b[0m\u001b[0mDecodedDigits\u001b[0m\u001b[0;34m[\u001b[0m\u001b[0mi\u001b[0m \u001b[0;34m+\u001b[0m \u001b[0;36m10\u001b[0m\u001b[0;34m]\u001b[0m\u001b[0;34m.\u001b[0m\u001b[0mreshape\u001b[0m\u001b[0;34m(\u001b[0m\u001b[0;36m28\u001b[0m\u001b[0;34m,\u001b[0m \u001b[0;36m28\u001b[0m\u001b[0;34m)\u001b[0m\u001b[0;34m)\u001b[0m\u001b[0;34m\u001b[0m\u001b[0m\n\u001b[0m\u001b[1;32m     11\u001b[0m     \u001b[0mplt\u001b[0m\u001b[0;34m.\u001b[0m\u001b[0mgray\u001b[0m\u001b[0;34m(\u001b[0m\u001b[0;34m)\u001b[0m\u001b[0;34m\u001b[0m\u001b[0m\n\u001b[1;32m     12\u001b[0m     \u001b[0max\u001b[0m\u001b[0;34m.\u001b[0m\u001b[0mget_xaxis\u001b[0m\u001b[0;34m(\u001b[0m\u001b[0;34m)\u001b[0m\u001b[0;34m.\u001b[0m\u001b[0mset_visible\u001b[0m\u001b[0;34m(\u001b[0m\u001b[0mFalse\u001b[0m\u001b[0;34m)\u001b[0m\u001b[0;34m\u001b[0m\u001b[0m\n",
      "\u001b[0;31mNameError\u001b[0m: name 'DecodedDigits' is not defined"
     ]
    },
    {
     "data": {
      "image/png": "[encoded data removed]",
      "text/plain": [
       "<Figure size 1440x288 with 2 Axes>"
      ]
     },
     "metadata": {
      "needs_background": "light"
     },
     "output_type": "display_data"
    }
   ],
   "source": [
    "decodedDigits = model.predict()\n",
    "n = 5\n",
    "plt.figure(figsize = (20, 4))\n",
    "for i in range(n):\n",
    "    ax = plt.subplot(2, n, i + 1)\n",
    "    plt.imshow(x_test[i + 10].reshape(28, 28))\n",
    "    plt.gray()\n",
    "    ax.get_xaxis().set_visible(False)\n",
    "    ax.get_yaxis().set_visible(False)\n",
    "    ax = plt.subplot(2, n, i + 1 + n)\n",
    "    plt.imshow(DecodedDigits[i + 10].reshape(28, 28))\n",
    "    plt.gray()\n",
    "    ax.get_xaxis().set_visible(False)\n",
    "    ax.get_yaxis().set_visible(False)\n",
    "plt.show()"
   ]
  },
  {
   "cell_type": "code",
   "execution_count": null,
   "metadata": {},
   "outputs": [],
   "source": []
  }
 ],
 "metadata": {
  "kernelspec": {
   "display_name": "Python 2",
   "language": "python",
   "name": "python2"
  },
  "language_info": {
   "codemirror_mode": {
    "name": "ipython",
    "version": 2
   },
   "file_extension": ".py",
   "mimetype": "text/x-python",
   "name": "python",
   "nbconvert_exporter": "python",
   "pygments_lexer": "ipython2",
   "version": "2.7.15"
  }
 },
 "nbformat": 4,
 "nbformat_minor": 2
}
